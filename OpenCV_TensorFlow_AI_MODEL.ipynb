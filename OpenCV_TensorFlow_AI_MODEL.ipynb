{
 "cells": [
  {
   "cell_type": "markdown",
   "metadata": {
    "id": "oy1oWa8D61hn"
   },
   "source": [
    "# **TensorFLow Model**"
   ]
  },
  {
   "cell_type": "code",
   "execution_count": null,
   "metadata": {
    "colab": {
     "base_uri": "https://localhost:8080/",
     "height": 280
    },
    "id": "i9Ga1nAfYuye",
    "outputId": "2a631a44-1498-4c17-a5f1-9cf8d30438cc"
   },
   "outputs": [
    {
     "ename": "",
     "evalue": "",
     "output_type": "error",
     "traceback": [
      "\u001b[1;31mRunning cells with 'Python 3.10.4 ('face': venv)' requires ipykernel package.\n",
      "Run the following command to install 'ipykernel' into the Python environment. \n",
      "Command: 'c:/Users/hamma/OneDrive/Documents/face_recog/face/Scripts/python.exe -m pip install ipykernel -U --force-reinstall'"
     ]
    }
   ],
   "source": [
    "import cv2\n",
    "import numpy as np\n",
    "import dlib\n",
    "import math\n",
    "from math import sqrt\n",
    "# Load the detector\n",
    "detector = dlib.get_frontal_face_detector()\n",
    "# Load the predictor\n",
    "predictor = dlib.shape_predictor(\"shape_predictor_68_face_landmarks.dat\")\n",
    "\n",
    "# read the image\n",
    "img = cv2.imread(\"./download.jpg\")\n",
    "\n",
    "# Convert image into grayscale\n",
    "gray = cv2.cvtColor(src=img, code=cv2.COLOR_BGR2GRAY)\n",
    "\n",
    "# Use detector to find landmarks\n",
    "faces = detector(gray)\n",
    "for face in faces:\n",
    "    x1 = face.left() # left point\n",
    "    y1 = face.top() # top point\n",
    "    x2 = face.right() # right point\n",
    "    y2 = face.bottom() # bottom point\n",
    "    cv2.rectangle(img, (x1, y1), (x2, y2), (0, 255, 0), 3)\n",
    "    # Create landmark object\n",
    "    landmarks = predictor(image=gray, box=face)\n",
    "\n",
    "    # Loop through all the points\n",
    "    for n in range(0, 68):\n",
    "        x = landmarks.part(n).x\n",
    "        y = landmarks.part(n).y\n",
    "        # Draw a circle\n",
    "        cv2.circle(img, (x, y), 1, (255, 0, 0), 1)\n",
    "    #cv2.rectangle(img, (x, y), (y, x), (0, 255, 0), 1)\n",
    "# show the image\n",
    "        \n",
    "cv2.imshow(\"image\",img)\n",
    "\n",
    "# Delay between every fram\n",
    "cv2.waitKey(delay=0)\n",
    "\n",
    "# Close all windows\n",
    "cv2.destroyAllWindows()"
   ]
  },
  {
   "cell_type": "code",
   "execution_count": null,
   "metadata": {
    "id": "308tmQO47A81"
   },
   "outputs": [
    {
     "ename": "",
     "evalue": "",
     "output_type": "error",
     "traceback": [
      "\u001b[1;31mRunning cells with 'Python 3.10.4 ('face': venv)' requires ipykernel package.\n",
      "Run the following command to install 'ipykernel' into the Python environment. \n",
      "Command: 'c:/Users/hamma/OneDrive/Documents/face_recog/face/Scripts/python.exe -m pip install ipykernel -U --force-reinstall'"
     ]
    }
   ],
   "source": [
    "cap = cv2.VideoCapture(0)\n",
    "cap.set(3,750) # set Width\n",
    "cap.set(4,750) # set Height\n",
    "while True:\n",
    "    ret, img = cap.read()\n",
    "    gray = cv2.cvtColor(src=img, code=cv2.COLOR_BGR2GRAY)\n",
    "    faces = detector(gray)\n",
    "    for face in faces:\n",
    "        x1 = face.left() # left point\n",
    "        y1 = face.top() # top point\n",
    "        x2 = face.right() # right point\n",
    "        y2 = face.bottom() # bottom point\n",
    "        cv2.rectangle(img, (x1, y1), (x2, y2), (0, 255, 0), 3)\n",
    "    # Create landmark object\n",
    "        landmarks = predictor(image=gray, box=face)\n",
    "\n",
    "    # Loop through all the points\n",
    "        for n in range(0, 68):\n",
    "            x = landmarks.part(n).x\n",
    "            y = landmarks.part(n).y\n",
    "        # Draw a circle\n",
    "            cv2.circle(img, (x, y), 1, (255, 0, 0), 1)\n",
    "    cv2.imshow('video',img)\n",
    "    k = cv2.waitKey(30) & 0xff\n",
    "    if k == 27: # press 'ESC' to quit\n",
    "        break\n",
    "cap.release()\n",
    "cv2.destroyAllWindows()"
   ]
  },
  {
   "cell_type": "markdown",
   "metadata": {
    "id": "1s-SGjKG6xdo"
   },
   "source": [
    "# **OPENCV-MODEL**"
   ]
  },
  {
   "cell_type": "code",
   "execution_count": null,
   "metadata": {
    "id": "iVqK2Ch3CcWL"
   },
   "outputs": [
    {
     "ename": "",
     "evalue": "",
     "output_type": "error",
     "traceback": [
      "\u001b[1;31mRunning cells with 'Python 3.10.4 ('face': venv)' requires ipykernel package.\n",
      "Run the following command to install 'ipykernel' into the Python environment. \n",
      "Command: 'c:/Users/hamma/OneDrive/Documents/face_recog/face/Scripts/python.exe -m pip install ipykernel -U --force-reinstall'"
     ]
    }
   ],
   "source": [
    "import sys\n",
    "import cv2\n",
    "# Get user supplied values\n",
    "imagePath = \"./download.jpg\"\n",
    "frontal_face_cascPath = \"./haarcascade_frontalface_default.xml\"\n",
    "eyes_cascPath = \"./haarcascade_eye.xml\"\n",
    "mouth_cascPath = \"./haarcascade_mcs_mouth.xml\"\n",
    "#nose_cascPath = \"./Nose-and-Face-detection-put-mustache-under-nose-/cascades/third-party/Nose18x15.xml\"\n",
    "smile_cascPath = \"./haarcascade_smile.xml\"\n",
    "# Create the haar cascade\n",
    "frontal_face_casc = cv2.CascadeClassifier(frontal_face_cascPath)\n",
    "eyes_casc = cv2.CascadeClassifier(eyes_cascPath)\n",
    "#mouth_casc = cv2.CascadeClassifier(mouth_cascPath)\n",
    "smile_casc = cv2.CascadeClassifier(smile_cascPath)\n",
    "#noseCascade = cv2.CascadeClassifier(nose_cascPath)"
   ]
  },
  {
   "cell_type": "code",
   "execution_count": null,
   "metadata": {
    "colab": {
     "base_uri": "https://localhost:8080/",
     "height": 280
    },
    "id": "ZGOnBSy7HBv0",
    "outputId": "a2e2599b-b08b-445e-d4ea-b65b683ede49"
   },
   "outputs": [
    {
     "ename": "",
     "evalue": "",
     "output_type": "error",
     "traceback": [
      "\u001b[1;31mRunning cells with 'Python 3.10.4 ('face': venv)' requires ipykernel package.\n",
      "Run the following command to install 'ipykernel' into the Python environment. \n",
      "Command: 'c:/Users/hamma/OneDrive/Documents/face_recog/face/Scripts/python.exe -m pip install ipykernel -U --force-reinstall'"
     ]
    }
   ],
   "source": [
    "img = cv2.imread(imagePath)\n",
    "gray = cv2.cvtColor(img, cv2.COLOR_BGR2GRAY)\n",
    "faces = frontal_face_casc.detectMultiScale(gray, 1.3, 5)\n",
    "for (x,y,w,h) in faces:\n",
    "    cv2.rectangle(img,(x,y),(x+w,y+h),(255,0,0),2)\n",
    "    roi_gray = gray[y:y+h, x:x+w]\n",
    "    roi_color = img[y:y+h, x:x+w]\n",
    "eyes = eyes_casc.detectMultiScale(roi_gray)\n",
    "for (ex,ey,ew,eh) in eyes:\n",
    "    cv2.rectangle(roi_color,(ex,ey),(ex+ew,ey+eh),(0,255,0),2)\n",
    "smile = smile_casc.detectMultiScale(roi_gray)\n",
    "for (ex,ey,ew,eh) in smile:\n",
    "    cv2.rectangle(roi_color,(ex,ey),(ex+ew,ey+eh),(0,255,0),2)\n",
    "    \n",
    "    \n",
    "cv2.imshow(\"Frame\",img)\n",
    "cv2.waitKey(delay=0)\n",
    "\n",
    "# Close all windows\n",
    "cv2.destroyAllWindows()"
   ]
  },
  {
   "cell_type": "code",
   "execution_count": null,
   "metadata": {
    "colab": {
     "base_uri": "https://localhost:8080/",
     "height": 235
    },
    "id": "KkpMtSxZE-T7",
    "outputId": "60bed865-51c8-4bb8-862c-9d68ff093a5b"
   },
   "outputs": [
    {
     "ename": "",
     "evalue": "",
     "output_type": "error",
     "traceback": [
      "\u001b[1;31mRunning cells with 'Python 3.10.4 ('face': venv)' requires ipykernel package.\n",
      "Run the following command to install 'ipykernel' into the Python environment. \n",
      "Command: 'c:/Users/hamma/OneDrive/Documents/face_recog/face/Scripts/python.exe -m pip install ipykernel -U --force-reinstall'"
     ]
    }
   ],
   "source": [
    "cap = cv2.VideoCapture(0)\n",
    "cap.set(3,750) # set Width\n",
    "cap.set(4,750) # set Height\n",
    "while True:\n",
    "    ret, img = cap.read()\n",
    "    gray = cv2.cvtColor(img, cv2.COLOR_BGR2GRAY)\n",
    "    faces = frontal_face_casc.detectMultiScale(gray, 1.3, 5)\n",
    "    for (x,y,w,h) in faces:\n",
    "        cv2.rectangle(img,(x,y),(x+w,y+h),(255,0,0),2)\n",
    "        roi_gray = gray[y:y+h, x:x+w]\n",
    "        roi_color = img[y:y+h, x:x+w]  \n",
    "        for (ex,ey,ew,eh) in eyes:\n",
    "            cv2.rectangle(roi_color,(ex,ey),(ex+ew,ey+eh),(0,255,0),2)\n",
    "        smile = smile_casc.detectMultiScale(roi_gray)\n",
    "        for (ex,ey,ew,eh) in smile:\n",
    "             cv2.rectangle(roi_color,(ex,ey),(ex+ew,ey+eh),(0,255,0),2)\n",
    "    cv2.imshow('video',img)\n",
    "    k = cv2.waitKey(30) & 0xff\n",
    "    if k == 27: # press 'ESC' to quit\n",
    "        break\n",
    "cap.release()\n",
    "cv2.destroyAllWindows()"
   ]
  },
  {
   "cell_type": "code",
   "execution_count": null,
   "metadata": {
    "id": "f6H46arVFSmY"
   },
   "outputs": [
    {
     "ename": "",
     "evalue": "",
     "output_type": "error",
     "traceback": [
      "\u001b[1;31mRunning cells with 'Python 3.10.4 ('face': venv)' requires ipykernel package.\n",
      "Run the following command to install 'ipykernel' into the Python environment. \n",
      "Command: 'c:/Users/hamma/OneDrive/Documents/face_recog/face/Scripts/python.exe -m pip install ipykernel -U --force-reinstall'"
     ]
    }
   ],
   "source": []
  }
 ],
 "metadata": {
  "accelerator": "GPU",
  "colab": {
   "collapsed_sections": [],
   "name": "OpenCV_TensorFlow_AI_MODEL.ipynb",
   "provenance": []
  },
  "gpuClass": "standard",
  "kernelspec": {
   "display_name": "Python 3.10.4 ('face': venv)",
   "language": "python",
   "name": "python3"
  },
  "language_info": {
   "codemirror_mode": {
    "name": "ipython",
    "version": 3
   },
   "file_extension": ".py",
   "mimetype": "text/x-python",
   "name": "python",
   "nbconvert_exporter": "python",
   "pygments_lexer": "ipython3",
   "version": "3.10.4"
  },
  "vscode": {
   "interpreter": {
    "hash": "d71ad210c650875d8c7c003b7172b03c3c678d28bffc66687959980595f008a3"
   }
  }
 },
 "nbformat": 4,
 "nbformat_minor": 1
}
